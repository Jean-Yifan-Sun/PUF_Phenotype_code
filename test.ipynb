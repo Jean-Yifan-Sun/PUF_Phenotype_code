{
 "cells": [
  {
   "cell_type": "code",
   "execution_count": 2,
   "metadata": {},
   "outputs": [],
   "source": [
    "import os "
   ]
  },
  {
   "cell_type": "code",
   "execution_count": 3,
   "metadata": {},
   "outputs": [
    {
     "data": {
      "text/plain": [
       "['delta', 'gamma', 'epsilon', 'beta', 'alpha']"
      ]
     },
     "execution_count": 3,
     "metadata": {},
     "output_type": "execute_result"
    }
   ],
   "source": [
    "path_prefix = '/home/sunyf23/Work_station/PUF_Phenotype/Latency-DRAM-PUF-Dataset'    \n",
    "image_path = os.path.join(path_prefix,'grayscale_images') \n",
    "image_labels = os.listdir(image_path)\n",
    "image_labels"
   ]
  },
  {
   "cell_type": "code",
   "execution_count": 4,
   "metadata": {},
   "outputs": [
    {
     "data": {
      "text/plain": [
       "'/home/sunyf23/Work_station/PUF_Phenotype/Latency-DRAM-PUF-Dataset/grayscale_images'"
      ]
     },
     "execution_count": 4,
     "metadata": {},
     "output_type": "execute_result"
    }
   ],
   "source": [
    "image_path"
   ]
  },
  {
   "cell_type": "code",
   "execution_count": 5,
   "metadata": {},
   "outputs": [
    {
     "data": {
      "text/plain": [
       "'/home/sunyf23/Work_station/PUF_Phenotype/Latency-DRAM-PUF-Dataset/grayscale_images/delta'"
      ]
     },
     "execution_count": 5,
     "metadata": {},
     "output_type": "execute_result"
    }
   ],
   "source": [
    "locations = os.listdir(os.path.join(image_path,image_labels[0]))\n",
    "location_path = os.path.join(image_path,image_labels[0])\n",
    "location_path"
   ]
  },
  {
   "cell_type": "code",
   "execution_count": 6,
   "metadata": {},
   "outputs": [
    {
     "data": {
      "text/plain": [
       "'/home/sunyf23/Work_station/PUF_Phenotype/Latency-DRAM-PUF-Dataset/grayscale_images/delta/b'"
      ]
     },
     "execution_count": 6,
     "metadata": {},
     "output_type": "execute_result"
    }
   ],
   "source": [
    "temperatures = os.listdir(os.path.join(location_path,locations[0]))\n",
    "temperature_path = os.path.join(location_path,locations[0])\n",
    "temperature_path"
   ]
  },
  {
   "cell_type": "code",
   "execution_count": 7,
   "metadata": {},
   "outputs": [
    {
     "data": {
      "text/plain": [
       "['1.5', '1.3']"
      ]
     },
     "execution_count": 7,
     "metadata": {},
     "output_type": "execute_result"
    }
   ],
   "source": [
    "voltage_path = os.path.join(temperature_path,temperatures[0])\n",
    "voltages = os.listdir(voltage_path)\n",
    "voltages"
   ]
  },
  {
   "cell_type": "code",
   "execution_count": 8,
   "metadata": {},
   "outputs": [
    {
     "data": {
      "text/plain": [
       "['pat0', 'pat1', 'patm']"
      ]
     },
     "execution_count": 8,
     "metadata": {},
     "output_type": "execute_result"
    }
   ],
   "source": [
    "pattern_path = os.path.join(voltage_path,voltages[0])\n",
    "patterns = os.listdir(pattern_path)\n",
    "patterns"
   ]
  },
  {
   "cell_type": "code",
   "execution_count": 9,
   "metadata": {},
   "outputs": [
    {
     "data": {
      "text/plain": [
       "['delta_b_20_1.5_pat0_grayscale_4_.png',\n",
       " 'delta_b_20_1.5_pat0_grayscale_3_.png',\n",
       " 'delta_b_20_1.5_pat0_grayscale_10_.png',\n",
       " 'delta_b_20_1.5_pat0_grayscale_7_.png',\n",
       " 'delta_b_20_1.5_pat0_grayscale_5_.png',\n",
       " 'delta_b_20_1.5_pat0_grayscale_9_.png',\n",
       " 'delta_b_20_1.5_pat0_grayscale_8_.png',\n",
       " 'delta_b_20_1.5_pat0_grayscale_6_.png',\n",
       " 'delta_b_20_1.5_pat0_grayscale_1_.png',\n",
       " 'delta_b_20_1.5_pat0_grayscale_2_.png']"
      ]
     },
     "execution_count": 9,
     "metadata": {},
     "output_type": "execute_result"
    }
   ],
   "source": [
    "fig_path = os.path.join(pattern_path,patterns[0])\n",
    "figs = os.listdir(fig_path)\n",
    "figs\n"
   ]
  },
  {
   "cell_type": "code",
   "execution_count": 10,
   "metadata": {},
   "outputs": [],
   "source": [
    "locations = os.listdir(os.path.join(image_path,image_labels[0]))\n",
    "location_path = os.path.join(image_path,image_labels[0])\n",
    "temperatures = os.listdir(os.path.join(location_path,locations[0]))\n",
    "temperature_path = os.path.join(location_path,locations[0])\n",
    "voltage_path = os.path.join(temperature_path,temperatures[0])\n",
    "voltages = os.listdir(voltage_path)\n",
    "pattern_path = os.path.join(voltage_path,voltages[0])\n",
    "patterns = os.listdir(pattern_path)\n",
    "fig_path = os.path.join(pattern_path,patterns[0])\n",
    "figs = os.listdir(fig_path)"
   ]
  },
  {
   "cell_type": "code",
   "execution_count": 15,
   "metadata": {},
   "outputs": [],
   "source": [
    "images = []\n",
    "labels = []\n",
    "dimm_locations = []\n",
    "dimm_tempatures = []\n",
    "dimm_voltages = []\n",
    "dimm_patterns = []\n",
    "for i in image_labels:\n",
    "    locations = os.listdir(os.path.join(image_path,i))\n",
    "    location_path = os.path.join(image_path,i)\n",
    "    for j in locations:\n",
    "        temperatures = os.listdir(os.path.join(location_path,j))\n",
    "        temperature_path = os.path.join(location_path,j)\n",
    "        for k in temperatures:\n",
    "            voltage_path = os.path.join(temperature_path,k)\n",
    "            voltages = os.listdir(voltage_path)\n",
    "            for v in voltages:\n",
    "                pattern_path = os.path.join(voltage_path,v)\n",
    "                patterns = os.listdir(pattern_path)\n",
    "                for p in patterns:\n",
    "                    fig_path = os.path.join(pattern_path,p)\n",
    "                    figs = os.listdir(fig_path)\n",
    "                    for f in figs:\n",
    "                        temp = os.path.join(fig_path,f)\n",
    "                        if os.path.exists(temp):\n",
    "                            images.append(temp)\n",
    "                            labels.append(i)\n",
    "                            dimm_locations.append(j)\n",
    "                            dimm_tempatures.append(k)\n",
    "                            dimm_voltages.append(v)\n",
    "                            dimm_patterns.append(p)\n",
    "\n",
    "\n",
    "\n",
    "                        \n"
   ]
  },
  {
   "cell_type": "code",
   "execution_count": 26,
   "metadata": {},
   "outputs": [
    {
     "data": {
      "text/plain": [
       "1905"
      ]
     },
     "execution_count": 26,
     "metadata": {},
     "output_type": "execute_result"
    }
   ],
   "source": [
    "import pandas as pd\n",
    "data_dict = {\n",
    "    'images':images,\n",
    "    'labels':labels,\n",
    "    'dimm_locations':dimm_locations,\n",
    "    'dimm_tempatures':dimm_tempatures,\n",
    "    'dimm_voltages':dimm_voltages,\n",
    "    'dimm_patterns':dimm_patterns\n",
    "\n",
    "}\n",
    "len(pd.DataFrame.from_dict(data_dict))//5\n"
   ]
  },
  {
   "cell_type": "code",
   "execution_count": 25,
   "metadata": {},
   "outputs": [
    {
     "data": {
      "text/plain": [
       "'delta'"
      ]
     },
     "execution_count": 25,
     "metadata": {},
     "output_type": "execute_result"
    }
   ],
   "source": [
    "img_df = pd.DataFrame.from_dict(data_dict)\n",
    "img_df.loc[3,'labels']"
   ]
  },
  {
   "cell_type": "code",
   "execution_count": 31,
   "metadata": {},
   "outputs": [
    {
     "data": {
      "text/plain": [
       "[0, 2, 3, 4]"
      ]
     },
     "execution_count": 31,
     "metadata": {},
     "output_type": "execute_result"
    }
   ],
   "source": [
    "a=list(range(5))\n",
    "a.remove(1)\n",
    "a"
   ]
  },
  {
   "cell_type": "code",
   "execution_count": 28,
   "metadata": {},
   "outputs": [
    {
     "data": {
      "text/plain": [
       "int"
      ]
     },
     "execution_count": 28,
     "metadata": {},
     "output_type": "execute_result"
    }
   ],
   "source": [
    "type(list(range(5))[1])"
   ]
  },
  {
   "cell_type": "code",
   "execution_count": 33,
   "metadata": {},
   "outputs": [
    {
     "name": "stderr",
     "output_type": "stream",
     "text": [
      "<>:1: SyntaxWarning: list indices must be integers or slices, not tuple; perhaps you missed a comma?\n",
      "<>:1: SyntaxWarning: list indices must be integers or slices, not tuple; perhaps you missed a comma?\n",
      "/tmp/ipykernel_182756/2747825379.py:1: SyntaxWarning: list indices must be integers or slices, not tuple; perhaps you missed a comma?\n",
      "  [1,2,3,4,5,6][True,True,True,True,True,True]\n",
      "/tmp/ipykernel_182756/2747825379.py:1: SyntaxWarning: list indices must be integers or slices, not tuple; perhaps you missed a comma?\n",
      "  [1,2,3,4,5,6][True,True,True,True,True,True]\n",
      "/tmp/ipykernel_182756/2747825379.py:1: SyntaxWarning: list indices must be integers or slices, not tuple; perhaps you missed a comma?\n",
      "  [1,2,3,4,5,6][True,True,True,True,True,True]\n"
     ]
    },
    {
     "ename": "TypeError",
     "evalue": "list indices must be integers or slices, not tuple",
     "output_type": "error",
     "traceback": [
      "\u001b[0;31m---------------------------------------------------------------------------\u001b[0m",
      "\u001b[0;31mTypeError\u001b[0m                                 Traceback (most recent call last)",
      "\u001b[1;32m/home/sunyf23/Work_station/PUF_Phenotype/test.ipynb 单元格 15\u001b[0m line \u001b[0;36m1\n\u001b[0;32m----> <a href='vscode-notebook-cell://ssh-remote%2Bcuhksz/home/sunyf23/Work_station/PUF_Phenotype/test.ipynb#X20sdnNjb2RlLXJlbW90ZQ%3D%3D?line=0'>1</a>\u001b[0m [\u001b[39m1\u001b[39;49m,\u001b[39m2\u001b[39;49m,\u001b[39m3\u001b[39;49m,\u001b[39m4\u001b[39;49m,\u001b[39m5\u001b[39;49m,\u001b[39m6\u001b[39;49m][\u001b[39mTrue\u001b[39;49;00m,\u001b[39mTrue\u001b[39;49;00m,\u001b[39mTrue\u001b[39;49;00m,\u001b[39mTrue\u001b[39;49;00m,\u001b[39mTrue\u001b[39;49;00m,\u001b[39mTrue\u001b[39;49;00m]\n",
      "\u001b[0;31mTypeError\u001b[0m: list indices must be integers or slices, not tuple"
     ]
    }
   ],
   "source": [
    "[1,2,3,4,5,6][True,True,True,True,True,True]"
   ]
  },
  {
   "cell_type": "code",
   "execution_count": 34,
   "metadata": {},
   "outputs": [],
   "source": [
    "from torch.utils.data import DataLoader,Subset,ConcatDataset\n",
    "from dataset import PUFImageDataset\n",
    "import random,torch,os\n",
    "import numpy as np\n",
    "import pandas as pd\n",
    "\n",
    "\n",
    "seed = 1\n",
    "k_fold = 5\n",
    "\n",
    "\n",
    "dataset_all = PUFImageDataset(path_prefix='/home/sunyf23/Work_station/PUF_Phenotype/Latency-DRAM-PUF-Dataset')\n",
    "indices = list(range(len(dataset_all)))\n",
    "random.seed(seed)\n",
    "random.shuffle(indices)\n",
    "sub_len = len(indices)//k_fold\n",
    "\n",
    "k_set = []\n",
    "for i in range(k_fold-1):\n",
    "    k_set.append(Subset(dataset=dataset_all,indices=indices[sub_len*1:sub_len*(i+1)]))\n",
    "k_set.append(Subset(dataset=dataset_all,indices=indices[sub_len*(k_fold-1):]))\n",
    "\n"
   ]
  },
  {
   "cell_type": "code",
   "execution_count": 35,
   "metadata": {},
   "outputs": [
    {
     "data": {
      "text/plain": [
       "[<torch.utils.data.dataset.Subset at 0x7f6e08dd08e0>,\n",
       " <torch.utils.data.dataset.Subset at 0x7f6ec09eb250>,\n",
       " <torch.utils.data.dataset.Subset at 0x7f6ec09eb3a0>,\n",
       " <torch.utils.data.dataset.Subset at 0x7f6e06c36910>,\n",
       " <torch.utils.data.dataset.Subset at 0x7f6ec09eb3d0>]"
      ]
     },
     "execution_count": 35,
     "metadata": {},
     "output_type": "execute_result"
    }
   ],
   "source": [
    "k_set"
   ]
  },
  {
   "cell_type": "code",
   "execution_count": null,
   "metadata": {},
   "outputs": [],
   "source": [
    "for i in range(k_fold):\n",
    "    train_index = list(range(k_fold))\n",
    "    train_index.remove(i)\n",
    "    train_dataset = ConcatDataset(k_set[j] for j in train_index)\n",
    "    test_dataset = k_set[i]\n",
    "    train_dataloader = DataLoader(train_dataset, batch_size=4, shuffle=True)\n",
    "    print(len(train_dataloader))\n",
    "    test_dataloader = DataLoader(test_dataset, batch_size=64, shuffle=True)"
   ]
  },
  {
   "cell_type": "code",
   "execution_count": 1,
   "metadata": {},
   "outputs": [
    {
     "data": {
      "text/plain": [
       "torch.Size([1, 220, 200])"
      ]
     },
     "execution_count": 1,
     "metadata": {},
     "output_type": "execute_result"
    }
   ],
   "source": [
    "from torchvision.io import read_image\n",
    "a = read_image('/home/sunyf23/Work_station/PUF_Phenotype/Latency-DRAM-PUF-Dataset/grayscale_images/delta/b/20/1.5/pat1/delta_b_20_1.5_pat1_grayscale_1_.png')\n",
    "a.size()\n"
   ]
  },
  {
   "cell_type": "code",
   "execution_count": 3,
   "metadata": {},
   "outputs": [
    {
     "data": {
      "text/plain": [
       "torch.Size([3, 220, 200])"
      ]
     },
     "execution_count": 3,
     "metadata": {},
     "output_type": "execute_result"
    }
   ],
   "source": [
    "import torch \n",
    "torch.concat([a,a,a]).size()\n"
   ]
  },
  {
   "cell_type": "code",
   "execution_count": 38,
   "metadata": {},
   "outputs": [
    {
     "data": {
      "text/plain": [
       "100.0"
      ]
     },
     "execution_count": 38,
     "metadata": {},
     "output_type": "execute_result"
    }
   ],
   "source": [
    "import torch\n",
    "a = torch.randint(0,2,(64,5,5))\n",
    "b = torch.randint(0,2,(64,5,5))\n",
    "(a.argmax(1)==b.argmax(1)).type(torch.float).sum().item()"
   ]
  },
  {
   "cell_type": "code",
   "execution_count": 40,
   "metadata": {},
   "outputs": [
    {
     "data": {
      "text/plain": [
       "torch.Size([64, 25])"
      ]
     },
     "execution_count": 40,
     "metadata": {},
     "output_type": "execute_result"
    }
   ],
   "source": [
    "a.flatten(1).size()"
   ]
  },
  {
   "cell_type": "code",
   "execution_count": 42,
   "metadata": {},
   "outputs": [
    {
     "data": {
      "text/plain": [
       "0       ['/home/sunyf23/Work_station/PUF_Phenotype/Lat...\n",
       "1       ['/home/sunyf23/Work_station/PUF_Phenotype/Lat...\n",
       "2       ['/home/sunyf23/Work_station/PUF_Phenotype/Lat...\n",
       "3       ['/home/sunyf23/Work_station/PUF_Phenotype/Lat...\n",
       "4       ['/home/sunyf23/Work_station/PUF_Phenotype/Lat...\n",
       "                              ...                        \n",
       "3121    ['/home/sunyf23/Work_station/PUF_Phenotype/Lat...\n",
       "3122    ['/home/sunyf23/Work_station/PUF_Phenotype/Lat...\n",
       "3123    ['/home/sunyf23/Work_station/PUF_Phenotype/Lat...\n",
       "3124    ['/home/sunyf23/Work_station/PUF_Phenotype/Lat...\n",
       "3125    ['/home/sunyf23/Work_station/PUF_Phenotype/Lat...\n",
       "Name: images, Length: 3126, dtype: object"
      ]
     },
     "execution_count": 42,
     "metadata": {},
     "output_type": "execute_result"
    }
   ],
   "source": [
    "import pandas as pd\n",
    "data = pd.read_csv('/home/sunyf23/Work_station/data.csv')\n",
    "data['images']"
   ]
  },
  {
   "cell_type": "code",
   "execution_count": 47,
   "metadata": {},
   "outputs": [],
   "source": [
    "images = data.images\n",
    "for i in range(len(images)):\n",
    "    path3 = images[i]\n",
    "    for j in path3:\n",
    "        pass\n"
   ]
  },
  {
   "cell_type": "code",
   "execution_count": 58,
   "metadata": {},
   "outputs": [
    {
     "data": {
      "text/plain": [
       "['delta', 'b', '20', '1.5', 'patm', 'grayscale', '6', '.png']"
      ]
     },
     "execution_count": 58,
     "metadata": {},
     "output_type": "execute_result"
    }
   ],
   "source": [
    "'/home/sunyf23/Work_station/PUF_Phenotype/Latency-DRAM-PUF-Dataset/grayscale_images/delta/b/20/1.5/patm/delta_b_20_1.5_patm_grayscale_6_.png'.split('/')[-1].split('_')"
   ]
  },
  {
   "cell_type": "code",
   "execution_count": 1,
   "metadata": {},
   "outputs": [
    {
     "data": {
      "text/plain": [
       "tensor([[[1., 1., 1., 1., 1.],\n",
       "         [1., 1., 1., 1., 1.],\n",
       "         [1., 1., 1., 1., 1.],\n",
       "         [1., 1., 1., 1., 1.]],\n",
       "\n",
       "        [[1., 1., 1., 1., 1.],\n",
       "         [1., 1., 1., 1., 1.],\n",
       "         [1., 1., 1., 1., 1.],\n",
       "         [1., 1., 1., 1., 1.]],\n",
       "\n",
       "        [[1., 1., 1., 1., 1.],\n",
       "         [1., 1., 1., 1., 1.],\n",
       "         [1., 1., 1., 1., 1.],\n",
       "         [1., 1., 1., 1., 1.]]])"
      ]
     },
     "execution_count": 1,
     "metadata": {},
     "output_type": "execute_result"
    }
   ],
   "source": [
    "import torch\n",
    "a = 0\n",
    "b = torch.ones((3,4,5))\n",
    "a+b"
   ]
  },
  {
   "cell_type": "code",
   "execution_count": 2,
   "metadata": {},
   "outputs": [
    {
     "data": {
      "text/plain": [
       "tensor([[[2., 2., 2., 2., 2.],\n",
       "         [2., 2., 2., 2., 2.],\n",
       "         [2., 2., 2., 2., 2.],\n",
       "         [2., 2., 2., 2., 2.]],\n",
       "\n",
       "        [[2., 2., 2., 2., 2.],\n",
       "         [2., 2., 2., 2., 2.],\n",
       "         [2., 2., 2., 2., 2.],\n",
       "         [2., 2., 2., 2., 2.]],\n",
       "\n",
       "        [[2., 2., 2., 2., 2.],\n",
       "         [2., 2., 2., 2., 2.],\n",
       "         [2., 2., 2., 2., 2.],\n",
       "         [2., 2., 2., 2., 2.]]])"
      ]
     },
     "execution_count": 2,
     "metadata": {},
     "output_type": "execute_result"
    }
   ],
   "source": [
    "c = torch.ones_like(b)\n",
    "a+b+c"
   ]
  },
  {
   "cell_type": "code",
   "execution_count": 3,
   "metadata": {},
   "outputs": [
    {
     "data": {
      "text/plain": [
       "tensor([[[0.5000, 0.5000, 0.5000, 0.5000, 0.5000],\n",
       "         [0.5000, 0.5000, 0.5000, 0.5000, 0.5000],\n",
       "         [0.5000, 0.5000, 0.5000, 0.5000, 0.5000],\n",
       "         [0.5000, 0.5000, 0.5000, 0.5000, 0.5000]],\n",
       "\n",
       "        [[0.5000, 0.5000, 0.5000, 0.5000, 0.5000],\n",
       "         [0.5000, 0.5000, 0.5000, 0.5000, 0.5000],\n",
       "         [0.5000, 0.5000, 0.5000, 0.5000, 0.5000],\n",
       "         [0.5000, 0.5000, 0.5000, 0.5000, 0.5000]],\n",
       "\n",
       "        [[0.5000, 0.5000, 0.5000, 0.5000, 0.5000],\n",
       "         [0.5000, 0.5000, 0.5000, 0.5000, 0.5000],\n",
       "         [0.5000, 0.5000, 0.5000, 0.5000, 0.5000],\n",
       "         [0.5000, 0.5000, 0.5000, 0.5000, 0.5000]]])"
      ]
     },
     "execution_count": 3,
     "metadata": {},
     "output_type": "execute_result"
    }
   ],
   "source": [
    "c/2"
   ]
  },
  {
   "cell_type": "code",
   "execution_count": 5,
   "metadata": {},
   "outputs": [
    {
     "data": {
      "text/plain": [
       "tensor([[[0.5000, 0.5000, 0.5000, 0.5000, 0.5000],\n",
       "         [0.5000, 0.5000, 0.5000, 0.5000, 0.5000],\n",
       "         [0.5000, 0.5000, 0.5000, 0.5000, 0.5000],\n",
       "         [0.5000, 0.5000, 0.5000, 0.5000, 0.5000]],\n",
       "\n",
       "        [[0.5000, 0.5000, 0.5000, 0.5000, 0.5000],\n",
       "         [0.5000, 0.5000, 0.5000, 0.5000, 0.5000],\n",
       "         [0.5000, 0.5000, 0.5000, 0.5000, 0.5000],\n",
       "         [0.5000, 0.5000, 0.5000, 0.5000, 0.5000]],\n",
       "\n",
       "        [[0.5000, 0.5000, 0.5000, 0.5000, 0.5000],\n",
       "         [0.5000, 0.5000, 0.5000, 0.5000, 0.5000],\n",
       "         [0.5000, 0.5000, 0.5000, 0.5000, 0.5000],\n",
       "         [0.5000, 0.5000, 0.5000, 0.5000, 0.5000]]], device='cuda:0')"
      ]
     },
     "execution_count": 5,
     "metadata": {},
     "output_type": "execute_result"
    }
   ],
   "source": [
    "c.to('cuda')/2\n"
   ]
  },
  {
   "cell_type": "code",
   "execution_count": 1,
   "metadata": {},
   "outputs": [
    {
     "data": {
      "text/plain": [
       "tensor([[1, 2, 3, 4, 5, 6],\n",
       "        [1, 9, 3, 4, 5, 6]])"
      ]
     },
     "execution_count": 1,
     "metadata": {},
     "output_type": "execute_result"
    }
   ],
   "source": [
    "import torch\n",
    "a= torch.LongTensor([[1,2,3,4,5,6],[1,9,3,4,5,6]])\n",
    "a"
   ]
  },
  {
   "cell_type": "code",
   "execution_count": 5,
   "metadata": {},
   "outputs": [],
   "source": [
    "import pandas as pd\n",
    "a = torch.randint(low=0,high=5,size=(3000,5))\n",
    "b=a.numpy()\n"
   ]
  },
  {
   "cell_type": "code",
   "execution_count": 6,
   "metadata": {},
   "outputs": [
    {
     "data": {
      "text/plain": [
       "array([[3, 1, 1, 2, 3],\n",
       "       [1, 0, 4, 0, 1],\n",
       "       [1, 0, 1, 4, 0],\n",
       "       ...,\n",
       "       [2, 0, 1, 1, 1],\n",
       "       [4, 2, 1, 0, 0],\n",
       "       [3, 2, 3, 3, 0]])"
      ]
     },
     "execution_count": 6,
     "metadata": {},
     "output_type": "execute_result"
    }
   ],
   "source": [
    "b"
   ]
  },
  {
   "cell_type": "code",
   "execution_count": 10,
   "metadata": {},
   "outputs": [
    {
     "data": {
      "text/html": [
       "<div>\n",
       "<style scoped>\n",
       "    .dataframe tbody tr th:only-of-type {\n",
       "        vertical-align: middle;\n",
       "    }\n",
       "\n",
       "    .dataframe tbody tr th {\n",
       "        vertical-align: top;\n",
       "    }\n",
       "\n",
       "    .dataframe thead th {\n",
       "        text-align: right;\n",
       "    }\n",
       "</style>\n",
       "<table border=\"1\" class=\"dataframe\">\n",
       "  <thead>\n",
       "    <tr style=\"text-align: right;\">\n",
       "      <th></th>\n",
       "      <th>delta</th>\n",
       "      <th>gamma</th>\n",
       "      <th>epsilon</th>\n",
       "      <th>beta</th>\n",
       "      <th>alpha</th>\n",
       "    </tr>\n",
       "  </thead>\n",
       "  <tbody>\n",
       "    <tr>\n",
       "      <th>1</th>\n",
       "      <td>1</td>\n",
       "      <td>0</td>\n",
       "      <td>4</td>\n",
       "      <td>0</td>\n",
       "      <td>1</td>\n",
       "    </tr>\n",
       "    <tr>\n",
       "      <th>2</th>\n",
       "      <td>1</td>\n",
       "      <td>0</td>\n",
       "      <td>1</td>\n",
       "      <td>4</td>\n",
       "      <td>0</td>\n",
       "    </tr>\n",
       "    <tr>\n",
       "      <th>5</th>\n",
       "      <td>1</td>\n",
       "      <td>1</td>\n",
       "      <td>1</td>\n",
       "      <td>0</td>\n",
       "      <td>0</td>\n",
       "    </tr>\n",
       "    <tr>\n",
       "      <th>9</th>\n",
       "      <td>1</td>\n",
       "      <td>0</td>\n",
       "      <td>2</td>\n",
       "      <td>1</td>\n",
       "      <td>3</td>\n",
       "    </tr>\n",
       "    <tr>\n",
       "      <th>25</th>\n",
       "      <td>1</td>\n",
       "      <td>4</td>\n",
       "      <td>2</td>\n",
       "      <td>3</td>\n",
       "      <td>1</td>\n",
       "    </tr>\n",
       "    <tr>\n",
       "      <th>...</th>\n",
       "      <td>...</td>\n",
       "      <td>...</td>\n",
       "      <td>...</td>\n",
       "      <td>...</td>\n",
       "      <td>...</td>\n",
       "    </tr>\n",
       "    <tr>\n",
       "      <th>2963</th>\n",
       "      <td>1</td>\n",
       "      <td>3</td>\n",
       "      <td>2</td>\n",
       "      <td>4</td>\n",
       "      <td>4</td>\n",
       "    </tr>\n",
       "    <tr>\n",
       "      <th>2975</th>\n",
       "      <td>1</td>\n",
       "      <td>3</td>\n",
       "      <td>4</td>\n",
       "      <td>4</td>\n",
       "      <td>2</td>\n",
       "    </tr>\n",
       "    <tr>\n",
       "      <th>2978</th>\n",
       "      <td>1</td>\n",
       "      <td>1</td>\n",
       "      <td>1</td>\n",
       "      <td>0</td>\n",
       "      <td>4</td>\n",
       "    </tr>\n",
       "    <tr>\n",
       "      <th>2979</th>\n",
       "      <td>1</td>\n",
       "      <td>0</td>\n",
       "      <td>2</td>\n",
       "      <td>2</td>\n",
       "      <td>2</td>\n",
       "    </tr>\n",
       "    <tr>\n",
       "      <th>2980</th>\n",
       "      <td>1</td>\n",
       "      <td>4</td>\n",
       "      <td>3</td>\n",
       "      <td>0</td>\n",
       "      <td>4</td>\n",
       "    </tr>\n",
       "  </tbody>\n",
       "</table>\n",
       "<p>552 rows × 5 columns</p>\n",
       "</div>"
      ],
      "text/plain": [
       "      delta  gamma  epsilon  beta  alpha\n",
       "1         1      0        4     0      1\n",
       "2         1      0        1     4      0\n",
       "5         1      1        1     0      0\n",
       "9         1      0        2     1      3\n",
       "25        1      4        2     3      1\n",
       "...     ...    ...      ...   ...    ...\n",
       "2963      1      3        2     4      4\n",
       "2975      1      3        4     4      2\n",
       "2978      1      1        1     0      4\n",
       "2979      1      0        2     2      2\n",
       "2980      1      4        3     0      4\n",
       "\n",
       "[552 rows x 5 columns]"
      ]
     },
     "execution_count": 10,
     "metadata": {},
     "output_type": "execute_result"
    }
   ],
   "source": [
    "df = pd.DataFrame(b)\n",
    "df.columns = ['delta', 'gamma', 'epsilon', 'beta', 'alpha']\n",
    "df[df['delta']==1]"
   ]
  },
  {
   "cell_type": "code",
   "execution_count": 10,
   "metadata": {},
   "outputs": [
    {
     "data": {
      "text/plain": [
       "tensor([5, 1])"
      ]
     },
     "execution_count": 10,
     "metadata": {},
     "output_type": "execute_result"
    }
   ],
   "source": [
    "a.argmax(dim=1)"
   ]
  },
  {
   "cell_type": "code",
   "execution_count": 12,
   "metadata": {},
   "outputs": [
    {
     "data": {
      "text/plain": [
       "tensor([1, 9, 3, 4, 5, 6])"
      ]
     },
     "execution_count": 12,
     "metadata": {},
     "output_type": "execute_result"
    }
   ],
   "source": [
    "a[1]"
   ]
  }
 ],
 "metadata": {
  "kernelspec": {
   "display_name": "mygcn",
   "language": "python",
   "name": "python3"
  },
  "language_info": {
   "codemirror_mode": {
    "name": "ipython",
    "version": 3
   },
   "file_extension": ".py",
   "mimetype": "text/x-python",
   "name": "python",
   "nbconvert_exporter": "python",
   "pygments_lexer": "ipython3",
   "version": "3.9.18"
  }
 },
 "nbformat": 4,
 "nbformat_minor": 2
}
